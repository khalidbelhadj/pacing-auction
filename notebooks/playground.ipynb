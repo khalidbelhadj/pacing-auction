{
 "cells": [
  {
   "cell_type": "code",
   "execution_count": null,
   "metadata": {},
   "outputs": [],
   "source": [
    "from importlib import reload\n",
    "import os\n",
    "import sys\n",
    "import seaborn as sns\n",
    "import matplotlib.pyplot as plt\n",
    "import numpy as np\n",
    "import pandas as pd\n",
    "\n",
    "# Add the project root to the path\n",
    "project_root = os.path.abspath(os.path.join(os.getcwd(), os.pardir))\n",
    "sys.path.insert(0, project_root)\n",
    "\n",
    "import pacing_auction.data as data\n",
    "import pacing_auction.auction as auction\n",
    "import pacing_auction.elimination as elimination\n",
    "import pacing_auction.generator as generator\n",
    "reload(data)\n",
    "reload(elimination)\n",
    "reload(auction)\n",
    "reload(generator)\n",
    "\n",
    "sns.set_theme(\"paper\")"
   ]
  },
  {
   "cell_type": "code",
   "execution_count": null,
   "metadata": {},
   "outputs": [],
   "source": [
    "def print_result(sim: auction.Auction, res: auction.BRDResult):\n",
    "    print(f\"Result:             {type(res)}\")\n",
    "    print(f\"Iterations:         {res.iteration}\")\n",
    "    print(f\"Time per Iteration: {1000 * round(res.stats[\"time\"] / res.iteration, 4)}ms\")\n",
    "    print(f\"Time:               {res.stats['time']:.2f}s\")\n",
    "    if \"cycle_length\" in res.stats:\n",
    "        print(f\"Cycle length      : {res.stats[\"cycle_length\"]}\")\n",
    "    print(f\"Seed:               {sim.seed}\")"
   ]
  },
  {
   "cell_type": "code",
   "execution_count": null,
   "metadata": {},
   "outputs": [],
   "source": [
    "n, m, q = 2, 2, 1000\n",
    "\n",
    "a = auction.Auction(n, m, q)\n",
    "\n",
    "a.v = [\n",
    "    [1/2, 1/3],\n",
    "    [1/4, 1/4],\n",
    "]\n",
    "a.b = [0.2, 0.4]\n",
    "print(f\"{a.b=}\")\n",
    "\n",
    "# Try start from high values\n",
    "a.alpha_q = [q, q]\n",
    "res = a.responses()\n",
    "print_result(a, res)\n",
    "if isinstance(res, data.PNE):\n",
    "    print(res.x)\n",
    "    print(res.p)\n",
    "    print(a.utility(res.x, res.p))\n",
    "    print(a.alpha_q)\n",
    "\n",
    "a.alpha_q = np.array([1, 1])\n",
    "res = a.responses()\n",
    "\n",
    "utils = res.stats[\"alpha_q\"][0]\n",
    "sns.lineplot(x=range(len(utils)), y=utils)\n",
    "utils = res.stats[\"alpha_q\"][1]\n",
    "sns.lineplot(x=range(len(utils)), y=utils)\n",
    "plt.show()\n",
    "\n",
    "if isinstance(res, data.PNE):\n",
    "    print(res.x)\n",
    "    print(res.p)\n",
    "    print(a.utility(res.x, res.p))\n",
    "    print(a.alpha_q)\n",
    "print_result(a, res)"
   ]
  },
  {
   "cell_type": "code",
   "execution_count": null,
   "metadata": {},
   "outputs": [],
   "source": [
    "n, m, q = 5, 5, 10000\n",
    "\n",
    "pnes = []\n",
    "cycles = []\n",
    "\n",
    "for i in range(100):\n",
    "    sim = auction.Auction(n, m, q, generator=generator.SampledAuctionGenerator())\n",
    "    res = sim.responses()\n",
    "    if i % 50 == 0:\n",
    "        print(f\"Completed {i} simulations\")\n",
    "    # print_result(sim, res)\n",
    "    if isinstance(res, data.Cycle):\n",
    "        cycles.append(res)\n",
    "    else:\n",
    "        pnes.append(res)\n",
    "\n",
    "print(len(pnes) / (len(pnes) + len(cycles)))"
   ]
  },
  {
   "cell_type": "code",
   "execution_count": null,
   "metadata": {},
   "outputs": [],
   "source": [
    "\n",
    "print(len(pnes) / (len(pnes) + len(cycles)))"
   ]
  },
  {
   "cell_type": "code",
   "execution_count": null,
   "metadata": {},
   "outputs": [],
   "source": [
    "def get_pne(*args):\n",
    "    sim = auction.Auction(*args)\n",
    "    res = sim.responses()\n",
    "    while isinstance(res, auction.Cycle):\n",
    "        sim = auction.Auction(*args)\n",
    "        res = sim.responses()\n",
    "\n",
    "    return sim, res  # type: ignore"
   ]
  },
  {
   "cell_type": "code",
   "execution_count": null,
   "metadata": {},
   "outputs": [],
   "source": [
    "n, m, q = 10, 10, 1000\n",
    "\n",
    "# sim = auction.Auction(n, m, no_budget=True)\n",
    "\n",
    "res = sim.responses()\n",
    "sim, res = get_pne(n, m, q)\n",
    "\n",
    "print_result(sim, res)"
   ]
  },
  {
   "cell_type": "code",
   "execution_count": null,
   "metadata": {},
   "outputs": [],
   "source": [
    "bidder = 0"
   ]
  },
  {
   "cell_type": "code",
   "execution_count": null,
   "metadata": {},
   "outputs": [],
   "source": [
    "data = res.stats[\"d_utility\"]\n",
    "sns.histplot(data[bidder], bins=30)\n",
    "plt.show()\n",
    "\n",
    "bidder = (bidder + 1)"
   ]
  },
  {
   "cell_type": "code",
   "execution_count": null,
   "metadata": {},
   "outputs": [],
   "source": [
    "# Bar graph\n",
    "values = sim.v.flatten(order='F')\n",
    "groups = np.repeat([f\"Auction {j}\" for j in range(m)], n)\n",
    "rows   = np.tile([f\"Agent {i}\" for i in range(n)], m)\n",
    "hue_order = [f\"Agent {i}\" for i in range(n)]\n",
    "palette = sns.color_palette(\"deep\", n_colors=n)\n",
    "values = sim.v.flatten(order='F')\n",
    "groups = np.repeat([f\"Auction {j}\" for j in range(m)], n)\n",
    "rows   = np.tile([f\"Agent {i}\" for i in range(n)], m)\n",
    "\n",
    "plt.figure(figsize=(8, 5))\n",
    "ax = sns.barplot(x=groups, y=values, hue=rows, hue_order=hue_order, palette=palette, ci=None)\n",
    "plt.xlabel(\"Column (group)\")\n",
    "plt.ylabel(\"Value\")\n",
    "plt.title(\"Grouped barplot from a NumPy array\")\n",
    "plt.legend(title=\"Row\")\n",
    "plt.tight_layout()\n",
    "for i in range(n):\n",
    "    plt.axhline(y=sim.b[i], color=palette[i], linestyle='dotted', linewidth=1)\n",
    "plt.show()"
   ]
  },
  {
   "cell_type": "code",
   "execution_count": null,
   "metadata": {},
   "outputs": [],
   "source": [
    "data = res.stats[\"utility\"]\n",
    "\n",
    "# Create separate figure for combined plot\n",
    "plt.figure(figsize=(10, 5))\n",
    "for i in range(n):\n",
    "    sns.lineplot(data=data[i], label=f'Bidder {i+1}')\n",
    "plt.title(\"Utilities of all bidders\")\n",
    "plt.xlabel(\"Iteration\")\n",
    "plt.ylabel(\"Utility\")\n",
    "plt.ylim(0, np.max(data))\n",
    "\n",
    "# plt.savefig(\"/Users/khalid/Desktop/honours-project-writeup/figures/utilities.png\", dpi=500, bbox_inches=\"tight\")\n",
    "\n",
    "max_util = np.max(data)\n",
    "for i in range(sim.n):\n",
    "    sns.lineplot(data=data[i])\n",
    "\n",
    "plt.figure()\n",
    "sns.lineplot(data=res.stats[\"liquid_welfare\"])\n",
    "\n",
    "plt.show()"
   ]
  }
 ],
 "metadata": {
  "kernelspec": {
   "display_name": ".venv",
   "language": "python",
   "name": "python3"
  },
  "language_info": {
   "codemirror_mode": {
    "name": "ipython",
    "version": 3
   },
   "file_extension": ".py",
   "mimetype": "text/x-python",
   "name": "python",
   "nbconvert_exporter": "python",
   "pygments_lexer": "ipython3",
   "version": "3.13.2"
  }
 },
 "nbformat": 4,
 "nbformat_minor": 2
}
